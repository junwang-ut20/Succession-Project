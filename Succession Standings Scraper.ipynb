{
 "cells": [
  {
   "cell_type": "code",
   "execution_count": 75,
   "metadata": {},
   "outputs": [],
   "source": [
    "import pandas as pd\n",
    "import numpy as np\n",
    "import re\n",
    "from datetime import datetime\n",
    "from requests import get\n",
    "from bs4 import BeautifulSoup\n",
    "import lxml"
   ]
  },
  {
   "cell_type": "markdown",
   "metadata": {},
   "source": [
    "function source: https://github.com/vishaalagartha/basketball_reference_scraper/blob/master/basketball_reference_scraper/seasons.py"
   ]
  },
  {
   "cell_type": "code",
   "execution_count": 2,
   "metadata": {},
   "outputs": [],
   "source": [
    "def get_standings(date=None):\n",
    "    if date is None:\n",
    "        date = datetime.now()\n",
    "    else:\n",
    "        date = pd.to_datetime(date)\n",
    "    d = {}\n",
    "    r = get(f'https://www.basketball-reference.com/friv/standings.fcgi?month={date.month}&day={date.day}&year={date.year}')\n",
    "    if r.status_code==200:\n",
    "        soup = BeautifulSoup(r.content, 'html.parser')\n",
    "        e_table = soup.find('table', attrs={'id': 'standings_e'})\n",
    "        e_df = pd.read_html(str(e_table))[0]\n",
    "        w_table = soup.find('table', attrs={'id': 'standings_w'})\n",
    "        w_df = pd.read_html(str(w_table))[0]\n",
    "        e_df.rename(columns={'Eastern Conference': 'TEAM'}, inplace=True)\n",
    "        w_df.rename(columns={'Western Conference': 'TEAM'}, inplace=True)\n",
    "        d['EASTERN_CONF'] = e_df\n",
    "        d['WESTERN_CONF'] = w_df\n",
    "    return d"
   ]
  },
  {
   "cell_type": "code",
   "execution_count": 90,
   "metadata": {},
   "outputs": [],
   "source": [
    "df = pd.DataFrame(columns=['TEAM','W','L','W/L%','GB','PW','PL','PS/G','PA/G','year'])\n",
    "years = []\n",
    "for i in range(2000,2020):\n",
    "    years.append(str(i)+'-06-30')  \n",
    "    for y in years:\n",
    "        p = get_standings(date=y)\n",
    "        cat = pd.concat([p['EASTERN_CONF'],p['WESTERN_CONF']])\n",
    "        cat['year'] = str(i)\n",
    "        df = df.append(cat,ignore_index = True)\n",
    "        "
   ]
  },
  {
   "cell_type": "code",
   "execution_count": 91,
   "metadata": {},
   "outputs": [],
   "source": [
    "standings_df = df.drop(df[df['TEAM'].str.contains('Division')].index.values,axis = 0)"
   ]
  },
  {
   "cell_type": "code",
   "execution_count": 94,
   "metadata": {},
   "outputs": [],
   "source": [
    "standings_df.to_csv('Standings.csv',index=False)"
   ]
  }
 ],
 "metadata": {
  "kernelspec": {
   "display_name": "Python 3",
   "language": "python",
   "name": "python3"
  },
  "language_info": {
   "codemirror_mode": {
    "name": "ipython",
    "version": 3
   },
   "file_extension": ".py",
   "mimetype": "text/x-python",
   "name": "python",
   "nbconvert_exporter": "python",
   "pygments_lexer": "ipython3",
   "version": "3.7.4"
  }
 },
 "nbformat": 4,
 "nbformat_minor": 2
}
